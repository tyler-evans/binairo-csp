{
 "cells": [
  {
   "cell_type": "markdown",
   "metadata": {},
   "source": [
    "# Prelims"
   ]
  },
  {
   "cell_type": "code",
   "execution_count": 1,
   "metadata": {},
   "outputs": [],
   "source": [
    "import random\n",
    "\n",
    "from DataUtility.ReadData import read_board\n",
    "from CSPBuilding.CSPBuilding import construct_variables, construct_constraints\n",
    "from DataStructures.CSP import CSP\n",
    "from backtrack import recursive_backtracking\n",
    "from Heuristic.Heuristic import most_constrained_heuristic, random_heuristic"
   ]
  },
  {
   "cell_type": "markdown",
   "metadata": {},
   "source": [
    "# Usage"
   ]
  },
  {
   "cell_type": "code",
   "execution_count": 2,
   "metadata": {},
   "outputs": [
    {
     "name": "stdout",
     "output_type": "stream",
     "text": [
      "[['_' '_' '_' '_' '_' '_' '_' '0']\n",
      " ['_' '0' '0' '_' '_' '1' '_' '_']\n",
      " ['_' '0' '_' '_' '_' '1' '_' '0']\n",
      " ['_' '_' '1' '_' '_' '_' '_' '_']\n",
      " ['0' '0' '_' '1' '_' '_' '1' '_']\n",
      " ['_' '_' '_' '_' '1' '_' '_' '_']\n",
      " ['1' '1' '_' '_' '_' '0' '_' '1']\n",
      " ['_' '1' '_' '_' '_' '_' '_' '1']] 8x8\n",
      "120 constraints and 16 variables\n",
      "row domain sizes:  [17, 2, 5, 17, 2, 17, 1, 8]\n",
      "col domain sizes:  [10, 1, 10, 17, 17, 3, 17, 2]\n"
     ]
    }
   ],
   "source": [
    "random.seed(42)\n",
    "data, n = read_board('Data/example_1.txt')\n",
    "print(data, f'{n}x{n}')\n",
    "\n",
    "row_vars, col_vars = construct_variables(data, n)\n",
    "constraints = construct_constraints(row_vars, col_vars, n)\n",
    "csp = CSP(row_vars, col_vars, constraints, n)\n",
    "\n",
    "print(len(csp.constraints), 'constraints and', len(csp.variables), 'variables')\n",
    "print('row domain sizes: ', [len(v.domain) for v in csp.row_vars])\n",
    "print('col domain sizes: ', [len(v.domain) for v in csp.col_vars])"
   ]
  },
  {
   "cell_type": "code",
   "execution_count": 3,
   "metadata": {},
   "outputs": [
    {
     "name": "stdout",
     "output_type": "stream",
     "text": [
      "[('row 6', {(1, 1, 0, 0, 1, 0, 0, 1)})]\n",
      "[('col 1', {(1, 0, 0, 1, 0, 0, 1, 1)})]\n"
     ]
    }
   ],
   "source": [
    "print([(f'row {i}', v.domain) for i,v in enumerate(csp.row_vars) if len(v.domain)==1])\n",
    "print([(f'col {i}', v.domain) for i,v in enumerate(csp.col_vars) if len(v.domain)==1])"
   ]
  },
  {
   "cell_type": "code",
   "execution_count": 4,
   "metadata": {},
   "outputs": [
    {
     "name": "stdout",
     "output_type": "stream",
     "text": [
      "CPU times: user 48.3 ms, sys: 2.81 ms, total: 51.1 ms\n",
      "Wall time: 48.9 ms\n",
      "01101010\n",
      "10010101\n",
      "10010110\n",
      "01101001\n",
      "00110110\n",
      "10011010\n",
      "11001001\n",
      "01100101\n"
     ]
    }
   ],
   "source": [
    "%time result = recursive_backtracking(csp, most_constrained_heuristic)\n",
    "print(result)"
   ]
  },
  {
   "cell_type": "markdown",
   "metadata": {},
   "source": [
    "# Timing"
   ]
  },
  {
   "cell_type": "code",
   "execution_count": 5,
   "metadata": {},
   "outputs": [],
   "source": [
    "def time_solve(path, heuristic):\n",
    "    data, n = read_board(path)\n",
    "    \n",
    "    row_vars, col_vars = construct_variables(data, n)\n",
    "    constraints = construct_constraints(row_vars, col_vars, n)\n",
    "    csp = CSP(row_vars, col_vars, constraints, n)\n",
    "    recursive_backtracking(csp, heuristic)\n",
    "    \n",
    "    return csp"
   ]
  },
  {
   "cell_type": "code",
   "execution_count": 18,
   "metadata": {},
   "outputs": [],
   "source": [
    "boards = {\n",
    "    'e': 'Data/example_1.txt',\n",
    "    6: 'Data/6x6_very_hard.txt',\n",
    "    8: 'Data/8x8_example.txt',\n",
    "    10: 'Data/10x10_example.txt',\n",
    "    12: 'Data/12x12_example.txt',\n",
    "    14: 'Data/14x14_example.txt'\n",
    "}"
   ]
  },
  {
   "cell_type": "code",
   "execution_count": 7,
   "metadata": {},
   "outputs": [
    {
     "name": "stdout",
     "output_type": "stream",
     "text": [
      "40.8 ms ± 4.57 ms per loop (mean ± std. dev. of 7 runs, 100 loops each)\n"
     ]
    }
   ],
   "source": [
    "%timeit time_solve(boards[6], random_heuristic)"
   ]
  },
  {
   "cell_type": "code",
   "execution_count": 8,
   "metadata": {},
   "outputs": [
    {
     "name": "stdout",
     "output_type": "stream",
     "text": [
      "12.3 ms ± 894 µs per loop (mean ± std. dev. of 7 runs, 100 loops each)\n"
     ]
    }
   ],
   "source": [
    "%timeit time_solve(boards[6], most_constrained_heuristic)"
   ]
  },
  {
   "cell_type": "markdown",
   "metadata": {},
   "source": [
    "# Most Constrained Node Heuristic"
   ]
  },
  {
   "cell_type": "code",
   "execution_count": 9,
   "metadata": {},
   "outputs": [
    {
     "name": "stdout",
     "output_type": "stream",
     "text": [
      "CPU times: user 16.9 ms, sys: 702 µs, total: 17.6 ms\n",
      "Wall time: 17.3 ms\n",
      "101010\n",
      "001101\n",
      "010011\n",
      "110010\n",
      "101100\n",
      "010101\n"
     ]
    }
   ],
   "source": [
    "random.seed(42)\n",
    "%time csp = time_solve(boards[6], most_constrained_heuristic)\n",
    "print(csp)"
   ]
  },
  {
   "cell_type": "code",
   "execution_count": 10,
   "metadata": {},
   "outputs": [
    {
     "name": "stdout",
     "output_type": "stream",
     "text": [
      "CPU times: user 514 ms, sys: 8.89 ms, total: 523 ms\n",
      "Wall time: 539 ms\n",
      "01011010\n",
      "00101011\n",
      "10010101\n",
      "11001010\n",
      "01100101\n",
      "10110010\n",
      "01001101\n",
      "10110100\n"
     ]
    }
   ],
   "source": [
    "random.seed(42)\n",
    "%time csp = time_solve(boards[8], most_constrained_heuristic)\n",
    "print(csp)"
   ]
  },
  {
   "cell_type": "code",
   "execution_count": 11,
   "metadata": {},
   "outputs": [
    {
     "name": "stdout",
     "output_type": "stream",
     "text": [
      "CPU times: user 5.55 s, sys: 31.1 ms, total: 5.58 s\n",
      "Wall time: 5.87 s\n",
      "0110011001\n",
      "1001101100\n",
      "0110010110\n",
      "0011001011\n",
      "1001100101\n",
      "1100110010\n",
      "0011011001\n",
      "0101100101\n",
      "1100100110\n",
      "1010011010\n"
     ]
    }
   ],
   "source": [
    "random.seed(42)\n",
    "%time csp = time_solve(boards[10], most_constrained_heuristic)\n",
    "print(csp)"
   ]
  },
  {
   "cell_type": "code",
   "execution_count": 12,
   "metadata": {},
   "outputs": [
    {
     "name": "stdout",
     "output_type": "stream",
     "text": [
      "CPU times: user 39.2 s, sys: 104 ms, total: 39.3 s\n",
      "Wall time: 39.5 s\n",
      "011010100101\n",
      "101010010110\n",
      "010101101010\n",
      "001011011001\n",
      "100100110110\n",
      "110010101001\n",
      "011011001001\n",
      "100101010110\n",
      "101100110010\n",
      "010011001101\n",
      "110100101100\n",
      "001101010011\n"
     ]
    }
   ],
   "source": [
    "random.seed(42)\n",
    "%time csp = time_solve(boards[12], most_constrained_heuristic)\n",
    "print(csp)"
   ]
  },
  {
   "cell_type": "code",
   "execution_count": 13,
   "metadata": {},
   "outputs": [],
   "source": [
    "# No thanks\n",
    "# random.seed(42)\n",
    "# %time csp = time_solve(boards[14], most_constrained_heuristic)\n",
    "# print(csp)"
   ]
  },
  {
   "cell_type": "code",
   "execution_count": null,
   "metadata": {},
   "outputs": [],
   "source": []
  },
  {
   "cell_type": "markdown",
   "metadata": {},
   "source": [
    "# Random Heuristic"
   ]
  },
  {
   "cell_type": "code",
   "execution_count": 19,
   "metadata": {},
   "outputs": [
    {
     "name": "stdout",
     "output_type": "stream",
     "text": [
      "CPU times: user 158 ms, sys: 2.83 ms, total: 161 ms\n",
      "Wall time: 159 ms\n",
      "01101010\n",
      "10010101\n",
      "10010110\n",
      "01101001\n",
      "00110110\n",
      "10011010\n",
      "11001001\n",
      "01100101\n"
     ]
    }
   ],
   "source": [
    "random.seed(1)\n",
    "%time csp = time_solve(boards['e'], random_heuristic)\n",
    "print(csp)"
   ]
  },
  {
   "cell_type": "code",
   "execution_count": 14,
   "metadata": {},
   "outputs": [
    {
     "name": "stdout",
     "output_type": "stream",
     "text": [
      "CPU times: user 22 s, sys: 50.4 ms, total: 22.1 s\n",
      "Wall time: 22.2 s\n",
      "01011010\n",
      "00101011\n",
      "10010101\n",
      "11001010\n",
      "01100101\n",
      "10110010\n",
      "01001101\n",
      "10110100\n"
     ]
    }
   ],
   "source": [
    "random.seed(1)\n",
    "%time csp = time_solve(boards[8], random_heuristic)\n",
    "print(csp)"
   ]
  },
  {
   "cell_type": "code",
   "execution_count": 15,
   "metadata": {},
   "outputs": [],
   "source": [
    "# No thanks\n",
    "# random.seed(42)\n",
    "# %time csp = time_solve(boards[10], random_heuristic)\n",
    "# print(csp)"
   ]
  },
  {
   "cell_type": "code",
   "execution_count": 16,
   "metadata": {},
   "outputs": [],
   "source": [
    "# No thanks\n",
    "# random.seed(42)\n",
    "# %time csp = time_solve(boards[12], random_heuristic)\n",
    "# print(csp)"
   ]
  },
  {
   "cell_type": "code",
   "execution_count": 17,
   "metadata": {},
   "outputs": [],
   "source": [
    "# No thanks\n",
    "# random.seed(42)\n",
    "# %time csp = time_solve(boards[14], random_heuristic)\n",
    "# print(csp)"
   ]
  },
  {
   "cell_type": "code",
   "execution_count": null,
   "metadata": {},
   "outputs": [],
   "source": []
  }
 ],
 "metadata": {
  "kernelspec": {
   "display_name": "Python 3",
   "language": "python",
   "name": "python3"
  },
  "language_info": {
   "codemirror_mode": {
    "name": "ipython",
    "version": 3
   },
   "file_extension": ".py",
   "mimetype": "text/x-python",
   "name": "python",
   "nbconvert_exporter": "python",
   "pygments_lexer": "ipython3",
   "version": "3.6.8"
  }
 },
 "nbformat": 4,
 "nbformat_minor": 2
}
